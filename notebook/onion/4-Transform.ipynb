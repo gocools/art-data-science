{
 "cells": [
  {
   "cell_type": "markdown",
   "metadata": {
    "deletable": true,
    "editable": true
   },
   "source": [
    "# 4. Transform the Data\n",
    " \n",
    "> \"What is measured may not help answer what is needed\"\n",
    "\n",
    "- **Convert** e.g. free text to coded value\n",
    "- **Calculate** e.g. percentages, proportion\n",
    "- **Merge** e.g. first and surname for full name\n",
    "- **Aggregate** e.g. rollup by year, cluster by area\n",
    "- **Filter** e.g. exclude based on location\n",
    "- **Sample** e.g. extract a representative data\n",
    "- **Summary** e.g. show summary stats like mean"
   ]
  },
  {
   "cell_type": "markdown",
   "metadata": {
    "deletable": true,
    "editable": true
   },
   "source": [
    "## Let us read the data"
   ]
  },
  {
   "cell_type": "code",
   "execution_count": 41,
   "metadata": {
    "collapsed": true,
    "deletable": true,
    "editable": true
   },
   "outputs": [],
   "source": [
    "# Import the library we need, which is Pandas\n",
    "import pandas as pd"
   ]
  },
  {
   "cell_type": "markdown",
   "metadata": {
    "deletable": true,
    "editable": true
   },
   "source": [
    "You will find the variable `df` used quite often to store a `dataframe`"
   ]
  },
  {
   "cell_type": "code",
   "execution_count": 42,
   "metadata": {
    "collapsed": false,
    "deletable": true,
    "editable": true
   },
   "outputs": [],
   "source": [
    "# Read the csv file of Monthwise Quantity and Price csv file we have.\n",
    "df = pd.read_csv('MonthWiseMarketArrivals_clean.csv')"
   ]
  },
  {
   "cell_type": "markdown",
   "metadata": {
    "deletable": true,
    "editable": true
   },
   "source": [
    "## Understand Data Structure and Types"
   ]
  },
  {
   "cell_type": "code",
   "execution_count": 43,
   "metadata": {
    "collapsed": false,
    "deletable": true,
    "editable": true
   },
   "outputs": [
    {
     "data": {
      "text/plain": [
       "(11682, 10)"
      ]
     },
     "execution_count": 43,
     "metadata": {},
     "output_type": "execute_result"
    }
   ],
   "source": [
    "df.shape"
   ]
  },
  {
   "cell_type": "code",
   "execution_count": 44,
   "metadata": {
    "collapsed": false,
    "deletable": true,
    "editable": true
   },
   "outputs": [
    {
     "data": {
      "text/html": [
       "<div>\n",
       "<table border=\"1\" class=\"dataframe\">\n",
       "  <thead>\n",
       "    <tr style=\"text-align: right;\">\n",
       "      <th></th>\n",
       "      <th>market</th>\n",
       "      <th>month</th>\n",
       "      <th>year</th>\n",
       "      <th>quantity</th>\n",
       "      <th>priceMin</th>\n",
       "      <th>priceMax</th>\n",
       "      <th>priceMod</th>\n",
       "      <th>state</th>\n",
       "      <th>city</th>\n",
       "      <th>date</th>\n",
       "    </tr>\n",
       "  </thead>\n",
       "  <tbody>\n",
       "    <tr>\n",
       "      <th>0</th>\n",
       "      <td>ABOHAR(PB)</td>\n",
       "      <td>January</td>\n",
       "      <td>2005</td>\n",
       "      <td>2350</td>\n",
       "      <td>404</td>\n",
       "      <td>493</td>\n",
       "      <td>446</td>\n",
       "      <td>PB</td>\n",
       "      <td>ABOHAR</td>\n",
       "      <td>January-2005</td>\n",
       "    </tr>\n",
       "    <tr>\n",
       "      <th>1</th>\n",
       "      <td>ABOHAR(PB)</td>\n",
       "      <td>January</td>\n",
       "      <td>2006</td>\n",
       "      <td>900</td>\n",
       "      <td>487</td>\n",
       "      <td>638</td>\n",
       "      <td>563</td>\n",
       "      <td>PB</td>\n",
       "      <td>ABOHAR</td>\n",
       "      <td>January-2006</td>\n",
       "    </tr>\n",
       "    <tr>\n",
       "      <th>2</th>\n",
       "      <td>ABOHAR(PB)</td>\n",
       "      <td>January</td>\n",
       "      <td>2010</td>\n",
       "      <td>790</td>\n",
       "      <td>1283</td>\n",
       "      <td>1592</td>\n",
       "      <td>1460</td>\n",
       "      <td>PB</td>\n",
       "      <td>ABOHAR</td>\n",
       "      <td>January-2010</td>\n",
       "    </tr>\n",
       "    <tr>\n",
       "      <th>3</th>\n",
       "      <td>ABOHAR(PB)</td>\n",
       "      <td>January</td>\n",
       "      <td>2011</td>\n",
       "      <td>245</td>\n",
       "      <td>3067</td>\n",
       "      <td>3750</td>\n",
       "      <td>3433</td>\n",
       "      <td>PB</td>\n",
       "      <td>ABOHAR</td>\n",
       "      <td>January-2011</td>\n",
       "    </tr>\n",
       "    <tr>\n",
       "      <th>4</th>\n",
       "      <td>ABOHAR(PB)</td>\n",
       "      <td>January</td>\n",
       "      <td>2012</td>\n",
       "      <td>1035</td>\n",
       "      <td>523</td>\n",
       "      <td>686</td>\n",
       "      <td>605</td>\n",
       "      <td>PB</td>\n",
       "      <td>ABOHAR</td>\n",
       "      <td>January-2012</td>\n",
       "    </tr>\n",
       "  </tbody>\n",
       "</table>\n",
       "</div>"
      ],
      "text/plain": [
       "       market    month  year  quantity  priceMin  priceMax  priceMod state  \\\n",
       "0  ABOHAR(PB)  January  2005      2350       404       493       446    PB   \n",
       "1  ABOHAR(PB)  January  2006       900       487       638       563    PB   \n",
       "2  ABOHAR(PB)  January  2010       790      1283      1592      1460    PB   \n",
       "3  ABOHAR(PB)  January  2011       245      3067      3750      3433    PB   \n",
       "4  ABOHAR(PB)  January  2012      1035       523       686       605    PB   \n",
       "\n",
       "     city          date  \n",
       "0  ABOHAR  January-2005  \n",
       "1  ABOHAR  January-2006  \n",
       "2  ABOHAR  January-2010  \n",
       "3  ABOHAR  January-2011  \n",
       "4  ABOHAR  January-2012  "
      ]
     },
     "execution_count": 44,
     "metadata": {},
     "output_type": "execute_result"
    }
   ],
   "source": [
    "df.head()"
   ]
  },
  {
   "cell_type": "markdown",
   "metadata": {
    "deletable": true,
    "editable": true
   },
   "source": [
    "### Data Structure\n",
    "\n",
    "So we have ten columns in our dataset. Let us understand what each one is.\n",
    "\n",
    "Three are about the location of the Wholesale Market where Onion where sold.\n",
    "- **state**: This is the 2 letter abbreviation for the state in India (PB is Punjab and so on)\n",
    "- **city**: This is the city in India (ABOHAR, BANGALORE and so on)\n",
    "- **market**: This is a string with the combination of the state and city\n",
    "\n",
    "Three are related to the \n",
    "- **month**: Month in January, February and so on. \n",
    "- **year**: Year in YYYY representastion\n",
    "- **date**: The combination of the two above.\n",
    "\n",
    "Four are about quantity and price in these wholesale market. \n",
    "- **quantity**: The quanity of Onion arriving in the market in that month in quintals (100 kg)\n",
    "- **priceMin**: The minimum price in the month in Rs./quintal\n",
    "- **priceMax**: The maximum price in the month in Rs./quintal\n",
    "- **priceMod**: The modal price in the month in Rs./quintal\n",
    "\n",
    "We would expect the following the columns to be of the following type\n",
    "- **CATEGORICAL**: state, city, market\n",
    "- **TIME INTERVAL**: month, year, date\n",
    "- **QUANTITATIVE**: quantity, priceMin, priceMax, priceModal\n",
    "\n",
    "Let us see what pandas dataframe is reading these columns as."
   ]
  },
  {
   "cell_type": "code",
   "execution_count": 45,
   "metadata": {
    "collapsed": false,
    "deletable": true,
    "editable": true
   },
   "outputs": [
    {
     "data": {
      "text/plain": [
       "market      object\n",
       "month       object\n",
       "year         int64\n",
       "quantity     int64\n",
       "priceMin     int64\n",
       "priceMax     int64\n",
       "priceMod     int64\n",
       "state       object\n",
       "city        object\n",
       "date        object\n",
       "dtype: object"
      ]
     },
     "execution_count": 45,
     "metadata": {},
     "output_type": "execute_result"
    }
   ],
   "source": [
    "# Get the typeof each column\n",
    "df.dtypes"
   ]
  },
  {
   "cell_type": "markdown",
   "metadata": {
    "deletable": true,
    "editable": true
   },
   "source": [
    "So we are getting the quantitive columns are correctly being shown as integers and the categorical columns are showing as objects(strings) which is fine. \n",
    "However, the `date` columns is being read as an object and not a Time-Interval. Let us at least fix the `date` column and make it into a datetime object"
   ]
  },
  {
   "cell_type": "code",
   "execution_count": 46,
   "metadata": {
    "collapsed": true,
    "deletable": true,
    "editable": true
   },
   "outputs": [],
   "source": [
    "# Changing the date column to a Time Interval columnn\n",
    "df.date = pd.DatetimeIndex(df.date)"
   ]
  },
  {
   "cell_type": "code",
   "execution_count": 47,
   "metadata": {
    "collapsed": false,
    "deletable": true,
    "editable": true
   },
   "outputs": [
    {
     "data": {
      "text/plain": [
       "(11682, 10)"
      ]
     },
     "execution_count": 47,
     "metadata": {},
     "output_type": "execute_result"
    }
   ],
   "source": [
    "df.shape"
   ]
  },
  {
   "cell_type": "code",
   "execution_count": 48,
   "metadata": {
    "collapsed": false,
    "deletable": true,
    "editable": true
   },
   "outputs": [
    {
     "data": {
      "text/plain": [
       "market              object\n",
       "month               object\n",
       "year                 int64\n",
       "quantity             int64\n",
       "priceMin             int64\n",
       "priceMax             int64\n",
       "priceMod             int64\n",
       "state               object\n",
       "city                object\n",
       "date        datetime64[ns]\n",
       "dtype: object"
      ]
     },
     "execution_count": 48,
     "metadata": {},
     "output_type": "execute_result"
    }
   ],
   "source": [
    "# Now checking for type of each column\n",
    "df.dtypes"
   ]
  },
  {
   "cell_type": "code",
   "execution_count": 49,
   "metadata": {
    "collapsed": false,
    "deletable": true,
    "editable": true
   },
   "outputs": [
    {
     "data": {
      "text/html": [
       "<div>\n",
       "<table border=\"1\" class=\"dataframe\">\n",
       "  <thead>\n",
       "    <tr style=\"text-align: right;\">\n",
       "      <th></th>\n",
       "      <th>market</th>\n",
       "      <th>month</th>\n",
       "      <th>year</th>\n",
       "      <th>quantity</th>\n",
       "      <th>priceMin</th>\n",
       "      <th>priceMax</th>\n",
       "      <th>priceMod</th>\n",
       "      <th>state</th>\n",
       "      <th>city</th>\n",
       "      <th>date</th>\n",
       "    </tr>\n",
       "  </thead>\n",
       "  <tbody>\n",
       "    <tr>\n",
       "      <th>0</th>\n",
       "      <td>ABOHAR(PB)</td>\n",
       "      <td>January</td>\n",
       "      <td>2005</td>\n",
       "      <td>2350</td>\n",
       "      <td>404</td>\n",
       "      <td>493</td>\n",
       "      <td>446</td>\n",
       "      <td>PB</td>\n",
       "      <td>ABOHAR</td>\n",
       "      <td>2005-01-01</td>\n",
       "    </tr>\n",
       "    <tr>\n",
       "      <th>1</th>\n",
       "      <td>ABOHAR(PB)</td>\n",
       "      <td>January</td>\n",
       "      <td>2006</td>\n",
       "      <td>900</td>\n",
       "      <td>487</td>\n",
       "      <td>638</td>\n",
       "      <td>563</td>\n",
       "      <td>PB</td>\n",
       "      <td>ABOHAR</td>\n",
       "      <td>2006-01-01</td>\n",
       "    </tr>\n",
       "    <tr>\n",
       "      <th>2</th>\n",
       "      <td>ABOHAR(PB)</td>\n",
       "      <td>January</td>\n",
       "      <td>2010</td>\n",
       "      <td>790</td>\n",
       "      <td>1283</td>\n",
       "      <td>1592</td>\n",
       "      <td>1460</td>\n",
       "      <td>PB</td>\n",
       "      <td>ABOHAR</td>\n",
       "      <td>2010-01-01</td>\n",
       "    </tr>\n",
       "    <tr>\n",
       "      <th>3</th>\n",
       "      <td>ABOHAR(PB)</td>\n",
       "      <td>January</td>\n",
       "      <td>2011</td>\n",
       "      <td>245</td>\n",
       "      <td>3067</td>\n",
       "      <td>3750</td>\n",
       "      <td>3433</td>\n",
       "      <td>PB</td>\n",
       "      <td>ABOHAR</td>\n",
       "      <td>2011-01-01</td>\n",
       "    </tr>\n",
       "    <tr>\n",
       "      <th>4</th>\n",
       "      <td>ABOHAR(PB)</td>\n",
       "      <td>January</td>\n",
       "      <td>2012</td>\n",
       "      <td>1035</td>\n",
       "      <td>523</td>\n",
       "      <td>686</td>\n",
       "      <td>605</td>\n",
       "      <td>PB</td>\n",
       "      <td>ABOHAR</td>\n",
       "      <td>2012-01-01</td>\n",
       "    </tr>\n",
       "  </tbody>\n",
       "</table>\n",
       "</div>"
      ],
      "text/plain": [
       "       market    month  year  quantity  priceMin  priceMax  priceMod state  \\\n",
       "0  ABOHAR(PB)  January  2005      2350       404       493       446    PB   \n",
       "1  ABOHAR(PB)  January  2006       900       487       638       563    PB   \n",
       "2  ABOHAR(PB)  January  2010       790      1283      1592      1460    PB   \n",
       "3  ABOHAR(PB)  January  2011       245      3067      3750      3433    PB   \n",
       "4  ABOHAR(PB)  January  2012      1035       523       686       605    PB   \n",
       "\n",
       "     city       date  \n",
       "0  ABOHAR 2005-01-01  \n",
       "1  ABOHAR 2006-01-01  \n",
       "2  ABOHAR 2010-01-01  \n",
       "3  ABOHAR 2011-01-01  \n",
       "4  ABOHAR 2012-01-01  "
      ]
     },
     "execution_count": 49,
     "metadata": {},
     "output_type": "execute_result"
    }
   ],
   "source": [
    "# Let us see the dataframe again now\n",
    "df.head()"
   ]
  },
  {
   "cell_type": "markdown",
   "metadata": {
    "deletable": true,
    "editable": true
   },
   "source": [
    "### Exercise"
   ]
  },
  {
   "cell_type": "markdown",
   "metadata": {
    "deletable": true,
    "editable": true
   },
   "source": [
    "Find the starting date for the database?"
   ]
  },
  {
   "cell_type": "code",
   "execution_count": 50,
   "metadata": {
    "collapsed": false,
    "deletable": true,
    "editable": true
   },
   "outputs": [
    {
     "data": {
      "text/plain": [
       "Timestamp('1996-01-01 00:00:00')"
      ]
     },
     "execution_count": 50,
     "metadata": {},
     "output_type": "execute_result"
    }
   ],
   "source": [
    "df.date.min()"
   ]
  },
  {
   "cell_type": "markdown",
   "metadata": {
    "deletable": true,
    "editable": true
   },
   "source": [
    "Find the maximum quantity of Onion sold in a month?"
   ]
  },
  {
   "cell_type": "code",
   "execution_count": 51,
   "metadata": {
    "collapsed": false,
    "deletable": true,
    "editable": true
   },
   "outputs": [
    {
     "data": {
      "text/plain": [
       "1974018"
      ]
     },
     "execution_count": 51,
     "metadata": {},
     "output_type": "execute_result"
    }
   ],
   "source": [
    "df.quantity.max()"
   ]
  },
  {
   "cell_type": "markdown",
   "metadata": {
    "deletable": true,
    "editable": true
   },
   "source": [
    "Find the maximum and minimum Price for Onion in India?"
   ]
  },
  {
   "cell_type": "code",
   "execution_count": 52,
   "metadata": {
    "collapsed": false,
    "deletable": true,
    "editable": true
   },
   "outputs": [
    {
     "data": {
      "text/plain": [
       "12000"
      ]
     },
     "execution_count": 52,
     "metadata": {},
     "output_type": "execute_result"
    }
   ],
   "source": [
    "df.priceMax.max()"
   ]
  },
  {
   "cell_type": "code",
   "execution_count": 53,
   "metadata": {
    "collapsed": false,
    "deletable": true,
    "editable": true
   },
   "outputs": [
    {
     "data": {
      "text/plain": [
       "16"
      ]
     },
     "execution_count": 53,
     "metadata": {},
     "output_type": "execute_result"
    }
   ],
   "source": [
    "df.priceMin.min()"
   ]
  },
  {
   "cell_type": "code",
   "execution_count": null,
   "metadata": {
    "collapsed": false,
    "deletable": true,
    "editable": true
   },
   "outputs": [],
   "source": []
  },
  {
   "cell_type": "markdown",
   "metadata": {
    "deletable": true,
    "editable": true
   },
   "source": [
    "Find the number of unique cities and states in this database?"
   ]
  },
  {
   "cell_type": "code",
   "execution_count": 54,
   "metadata": {
    "collapsed": false,
    "deletable": true,
    "editable": true
   },
   "outputs": [
    {
     "data": {
      "text/plain": [
       "23"
      ]
     },
     "execution_count": 54,
     "metadata": {},
     "output_type": "execute_result"
    }
   ],
   "source": [
    "len(df.state.unique())"
   ]
  },
  {
   "cell_type": "code",
   "execution_count": null,
   "metadata": {
    "collapsed": false,
    "deletable": true,
    "editable": true
   },
   "outputs": [],
   "source": []
  },
  {
   "cell_type": "code",
   "execution_count": null,
   "metadata": {
    "collapsed": false,
    "deletable": true,
    "editable": true
   },
   "outputs": [],
   "source": []
  },
  {
   "cell_type": "markdown",
   "metadata": {
    "deletable": true,
    "editable": true
   },
   "source": [
    "## Question 1 - How big is the Bangalore & Delhi onion market compared to other cities in India?"
   ]
  },
  {
   "cell_type": "markdown",
   "metadata": {
    "deletable": true,
    "editable": true
   },
   "source": [
    "Let us try to do this examination for one of the year only. So we want to reduce our dataframe for only where the year = 2016. This process is called subset.\n",
    "\n",
    "### PRINCIPLE: Subset a Dataframe\n",
    "\n",
    "![](../img/subsetrows.png)\n",
    "\n",
    "How do you subset a dataframe on a given criteria\n",
    "\n",
    "`newDataframe` = `df`[ <`subset condition`> ] "
   ]
  },
  {
   "cell_type": "code",
   "execution_count": 55,
   "metadata": {
    "collapsed": false,
    "deletable": true,
    "editable": true
   },
   "outputs": [],
   "source": [
    "df2016 = df[df.year == 2016]"
   ]
  },
  {
   "cell_type": "code",
   "execution_count": 56,
   "metadata": {
    "collapsed": false,
    "deletable": true,
    "editable": true
   },
   "outputs": [
    {
     "data": {
      "text/html": [
       "<div>\n",
       "<table border=\"1\" class=\"dataframe\">\n",
       "  <thead>\n",
       "    <tr style=\"text-align: right;\">\n",
       "      <th></th>\n",
       "      <th>market</th>\n",
       "      <th>month</th>\n",
       "      <th>year</th>\n",
       "      <th>quantity</th>\n",
       "      <th>priceMin</th>\n",
       "      <th>priceMax</th>\n",
       "      <th>priceMod</th>\n",
       "      <th>state</th>\n",
       "      <th>city</th>\n",
       "      <th>date</th>\n",
       "    </tr>\n",
       "  </thead>\n",
       "  <tbody>\n",
       "    <tr>\n",
       "      <th>48</th>\n",
       "      <td>ABOHAR(PB)</td>\n",
       "      <td>June</td>\n",
       "      <td>2016</td>\n",
       "      <td>710</td>\n",
       "      <td>523</td>\n",
       "      <td>755</td>\n",
       "      <td>613</td>\n",
       "      <td>PB</td>\n",
       "      <td>ABOHAR</td>\n",
       "      <td>2016-06-01</td>\n",
       "    </tr>\n",
       "    <tr>\n",
       "      <th>64</th>\n",
       "      <td>ABOHAR(PB)</td>\n",
       "      <td>August</td>\n",
       "      <td>2016</td>\n",
       "      <td>60</td>\n",
       "      <td>650</td>\n",
       "      <td>1065</td>\n",
       "      <td>850</td>\n",
       "      <td>PB</td>\n",
       "      <td>ABOHAR</td>\n",
       "      <td>2016-08-01</td>\n",
       "    </tr>\n",
       "    <tr>\n",
       "      <th>72</th>\n",
       "      <td>ABOHAR(PB)</td>\n",
       "      <td>September</td>\n",
       "      <td>2016</td>\n",
       "      <td>400</td>\n",
       "      <td>650</td>\n",
       "      <td>800</td>\n",
       "      <td>725</td>\n",
       "      <td>PB</td>\n",
       "      <td>ABOHAR</td>\n",
       "      <td>2016-09-01</td>\n",
       "    </tr>\n",
       "    <tr>\n",
       "      <th>80</th>\n",
       "      <td>ABOHAR(PB)</td>\n",
       "      <td>October</td>\n",
       "      <td>2016</td>\n",
       "      <td>350</td>\n",
       "      <td>700</td>\n",
       "      <td>900</td>\n",
       "      <td>850</td>\n",
       "      <td>PB</td>\n",
       "      <td>ABOHAR</td>\n",
       "      <td>2016-10-01</td>\n",
       "    </tr>\n",
       "    <tr>\n",
       "      <th>88</th>\n",
       "      <td>ABOHAR(PB)</td>\n",
       "      <td>November</td>\n",
       "      <td>2016</td>\n",
       "      <td>590</td>\n",
       "      <td>775</td>\n",
       "      <td>1059</td>\n",
       "      <td>888</td>\n",
       "      <td>PB</td>\n",
       "      <td>ABOHAR</td>\n",
       "      <td>2016-11-01</td>\n",
       "    </tr>\n",
       "    <tr>\n",
       "      <th>96</th>\n",
       "      <td>ABOHAR(PB)</td>\n",
       "      <td>December</td>\n",
       "      <td>2016</td>\n",
       "      <td>330</td>\n",
       "      <td>688</td>\n",
       "      <td>1100</td>\n",
       "      <td>873</td>\n",
       "      <td>PB</td>\n",
       "      <td>ABOHAR</td>\n",
       "      <td>2016-12-01</td>\n",
       "    </tr>\n",
       "    <tr>\n",
       "      <th>108</th>\n",
       "      <td>AGRA(UP)</td>\n",
       "      <td>January</td>\n",
       "      <td>2016</td>\n",
       "      <td>134200</td>\n",
       "      <td>1039</td>\n",
       "      <td>1443</td>\n",
       "      <td>1349</td>\n",
       "      <td>UP</td>\n",
       "      <td>AGRA</td>\n",
       "      <td>2016-01-01</td>\n",
       "    </tr>\n",
       "    <tr>\n",
       "      <th>121</th>\n",
       "      <td>AGRA(UP)</td>\n",
       "      <td>February</td>\n",
       "      <td>2016</td>\n",
       "      <td>124508</td>\n",
       "      <td>895</td>\n",
       "      <td>1220</td>\n",
       "      <td>1130</td>\n",
       "      <td>UP</td>\n",
       "      <td>AGRA</td>\n",
       "      <td>2016-02-01</td>\n",
       "    </tr>\n",
       "    <tr>\n",
       "      <th>132</th>\n",
       "      <td>AGRA(UP)</td>\n",
       "      <td>March</td>\n",
       "      <td>2016</td>\n",
       "      <td>120500</td>\n",
       "      <td>750</td>\n",
       "      <td>1085</td>\n",
       "      <td>1011</td>\n",
       "      <td>UP</td>\n",
       "      <td>AGRA</td>\n",
       "      <td>2016-03-01</td>\n",
       "    </tr>\n",
       "    <tr>\n",
       "      <th>144</th>\n",
       "      <td>AGRA(UP)</td>\n",
       "      <td>April</td>\n",
       "      <td>2016</td>\n",
       "      <td>99700</td>\n",
       "      <td>697</td>\n",
       "      <td>1020</td>\n",
       "      <td>957</td>\n",
       "      <td>UP</td>\n",
       "      <td>AGRA</td>\n",
       "      <td>2016-04-01</td>\n",
       "    </tr>\n",
       "  </tbody>\n",
       "</table>\n",
       "</div>"
      ],
      "text/plain": [
       "         market      month  year  quantity  priceMin  priceMax  priceMod  \\\n",
       "48   ABOHAR(PB)       June  2016       710       523       755       613   \n",
       "64   ABOHAR(PB)     August  2016        60       650      1065       850   \n",
       "72   ABOHAR(PB)  September  2016       400       650       800       725   \n",
       "80   ABOHAR(PB)    October  2016       350       700       900       850   \n",
       "88   ABOHAR(PB)   November  2016       590       775      1059       888   \n",
       "96   ABOHAR(PB)   December  2016       330       688      1100       873   \n",
       "108    AGRA(UP)    January  2016    134200      1039      1443      1349   \n",
       "121    AGRA(UP)   February  2016    124508       895      1220      1130   \n",
       "132    AGRA(UP)      March  2016    120500       750      1085      1011   \n",
       "144    AGRA(UP)      April  2016     99700       697      1020       957   \n",
       "\n",
       "    state    city       date  \n",
       "48     PB  ABOHAR 2016-06-01  \n",
       "64     PB  ABOHAR 2016-08-01  \n",
       "72     PB  ABOHAR 2016-09-01  \n",
       "80     PB  ABOHAR 2016-10-01  \n",
       "88     PB  ABOHAR 2016-11-01  \n",
       "96     PB  ABOHAR 2016-12-01  \n",
       "108    UP    AGRA 2016-01-01  \n",
       "121    UP    AGRA 2016-02-01  \n",
       "132    UP    AGRA 2016-03-01  \n",
       "144    UP    AGRA 2016-04-01  "
      ]
     },
     "execution_count": 56,
     "metadata": {},
     "output_type": "execute_result"
    }
   ],
   "source": [
    "df2016.head(10)"
   ]
  },
  {
   "cell_type": "code",
   "execution_count": 57,
   "metadata": {
    "collapsed": false,
    "deletable": true,
    "editable": true
   },
   "outputs": [],
   "source": [
    "# We can also subset on multiple criterias\n",
    "df2016Bang = df[(df.year == 2016) & (df.city == 'BANGALORE')]"
   ]
  },
  {
   "cell_type": "code",
   "execution_count": 58,
   "metadata": {
    "collapsed": false,
    "deletable": true,
    "editable": true
   },
   "outputs": [
    {
     "data": {
      "text/html": [
       "<div>\n",
       "<table border=\"1\" class=\"dataframe\">\n",
       "  <thead>\n",
       "    <tr style=\"text-align: right;\">\n",
       "      <th></th>\n",
       "      <th>market</th>\n",
       "      <th>month</th>\n",
       "      <th>year</th>\n",
       "      <th>quantity</th>\n",
       "      <th>priceMin</th>\n",
       "      <th>priceMax</th>\n",
       "      <th>priceMod</th>\n",
       "      <th>state</th>\n",
       "      <th>city</th>\n",
       "      <th>date</th>\n",
       "    </tr>\n",
       "  </thead>\n",
       "  <tbody>\n",
       "    <tr>\n",
       "      <th>859</th>\n",
       "      <td>BANGALORE</td>\n",
       "      <td>January</td>\n",
       "      <td>2016</td>\n",
       "      <td>507223</td>\n",
       "      <td>200</td>\n",
       "      <td>1943</td>\n",
       "      <td>1448</td>\n",
       "      <td>KT</td>\n",
       "      <td>BANGALORE</td>\n",
       "      <td>2016-01-01</td>\n",
       "    </tr>\n",
       "    <tr>\n",
       "      <th>873</th>\n",
       "      <td>BANGALORE</td>\n",
       "      <td>February</td>\n",
       "      <td>2016</td>\n",
       "      <td>465640</td>\n",
       "      <td>200</td>\n",
       "      <td>1426</td>\n",
       "      <td>1027</td>\n",
       "      <td>KT</td>\n",
       "      <td>BANGALORE</td>\n",
       "      <td>2016-02-01</td>\n",
       "    </tr>\n",
       "    <tr>\n",
       "      <th>886</th>\n",
       "      <td>BANGALORE</td>\n",
       "      <td>March</td>\n",
       "      <td>2016</td>\n",
       "      <td>444696</td>\n",
       "      <td>200</td>\n",
       "      <td>1075</td>\n",
       "      <td>750</td>\n",
       "      <td>KT</td>\n",
       "      <td>BANGALORE</td>\n",
       "      <td>2016-03-01</td>\n",
       "    </tr>\n",
       "    <tr>\n",
       "      <th>899</th>\n",
       "      <td>BANGALORE</td>\n",
       "      <td>April</td>\n",
       "      <td>2016</td>\n",
       "      <td>426567</td>\n",
       "      <td>200</td>\n",
       "      <td>1102</td>\n",
       "      <td>753</td>\n",
       "      <td>KT</td>\n",
       "      <td>BANGALORE</td>\n",
       "      <td>2016-04-01</td>\n",
       "    </tr>\n",
       "    <tr>\n",
       "      <th>912</th>\n",
       "      <td>BANGALORE</td>\n",
       "      <td>May</td>\n",
       "      <td>2016</td>\n",
       "      <td>465936</td>\n",
       "      <td>218</td>\n",
       "      <td>1111</td>\n",
       "      <td>803</td>\n",
       "      <td>KT</td>\n",
       "      <td>BANGALORE</td>\n",
       "      <td>2016-05-01</td>\n",
       "    </tr>\n",
       "    <tr>\n",
       "      <th>925</th>\n",
       "      <td>BANGALORE</td>\n",
       "      <td>June</td>\n",
       "      <td>2016</td>\n",
       "      <td>418794</td>\n",
       "      <td>187</td>\n",
       "      <td>1276</td>\n",
       "      <td>903</td>\n",
       "      <td>KT</td>\n",
       "      <td>BANGALORE</td>\n",
       "      <td>2016-06-01</td>\n",
       "    </tr>\n",
       "    <tr>\n",
       "      <th>938</th>\n",
       "      <td>BANGALORE</td>\n",
       "      <td>July</td>\n",
       "      <td>2016</td>\n",
       "      <td>452828</td>\n",
       "      <td>200</td>\n",
       "      <td>1272</td>\n",
       "      <td>985</td>\n",
       "      <td>KT</td>\n",
       "      <td>BANGALORE</td>\n",
       "      <td>2016-07-01</td>\n",
       "    </tr>\n",
       "    <tr>\n",
       "      <th>951</th>\n",
       "      <td>BANGALORE</td>\n",
       "      <td>August</td>\n",
       "      <td>2016</td>\n",
       "      <td>562522</td>\n",
       "      <td>200</td>\n",
       "      <td>1208</td>\n",
       "      <td>897</td>\n",
       "      <td>KT</td>\n",
       "      <td>BANGALORE</td>\n",
       "      <td>2016-08-01</td>\n",
       "    </tr>\n",
       "    <tr>\n",
       "      <th>964</th>\n",
       "      <td>BANGALORE</td>\n",
       "      <td>September</td>\n",
       "      <td>2016</td>\n",
       "      <td>831895</td>\n",
       "      <td>195</td>\n",
       "      <td>1048</td>\n",
       "      <td>758</td>\n",
       "      <td>KT</td>\n",
       "      <td>BANGALORE</td>\n",
       "      <td>2016-09-01</td>\n",
       "    </tr>\n",
       "    <tr>\n",
       "      <th>977</th>\n",
       "      <td>BANGALORE</td>\n",
       "      <td>October</td>\n",
       "      <td>2016</td>\n",
       "      <td>1620273</td>\n",
       "      <td>216</td>\n",
       "      <td>1103</td>\n",
       "      <td>680</td>\n",
       "      <td>KT</td>\n",
       "      <td>BANGALORE</td>\n",
       "      <td>2016-10-01</td>\n",
       "    </tr>\n",
       "    <tr>\n",
       "      <th>990</th>\n",
       "      <td>BANGALORE</td>\n",
       "      <td>November</td>\n",
       "      <td>2016</td>\n",
       "      <td>1974018</td>\n",
       "      <td>196</td>\n",
       "      <td>1465</td>\n",
       "      <td>881</td>\n",
       "      <td>KT</td>\n",
       "      <td>BANGALORE</td>\n",
       "      <td>2016-11-01</td>\n",
       "    </tr>\n",
       "    <tr>\n",
       "      <th>1003</th>\n",
       "      <td>BANGALORE</td>\n",
       "      <td>December</td>\n",
       "      <td>2016</td>\n",
       "      <td>947081</td>\n",
       "      <td>192</td>\n",
       "      <td>1315</td>\n",
       "      <td>875</td>\n",
       "      <td>KT</td>\n",
       "      <td>BANGALORE</td>\n",
       "      <td>2016-12-01</td>\n",
       "    </tr>\n",
       "  </tbody>\n",
       "</table>\n",
       "</div>"
      ],
      "text/plain": [
       "         market      month  year  quantity  priceMin  priceMax  priceMod  \\\n",
       "859   BANGALORE    January  2016    507223       200      1943      1448   \n",
       "873   BANGALORE   February  2016    465640       200      1426      1027   \n",
       "886   BANGALORE      March  2016    444696       200      1075       750   \n",
       "899   BANGALORE      April  2016    426567       200      1102       753   \n",
       "912   BANGALORE        May  2016    465936       218      1111       803   \n",
       "925   BANGALORE       June  2016    418794       187      1276       903   \n",
       "938   BANGALORE       July  2016    452828       200      1272       985   \n",
       "951   BANGALORE     August  2016    562522       200      1208       897   \n",
       "964   BANGALORE  September  2016    831895       195      1048       758   \n",
       "977   BANGALORE    October  2016   1620273       216      1103       680   \n",
       "990   BANGALORE   November  2016   1974018       196      1465       881   \n",
       "1003  BANGALORE   December  2016    947081       192      1315       875   \n",
       "\n",
       "     state       city       date  \n",
       "859     KT  BANGALORE 2016-01-01  \n",
       "873     KT  BANGALORE 2016-02-01  \n",
       "886     KT  BANGALORE 2016-03-01  \n",
       "899     KT  BANGALORE 2016-04-01  \n",
       "912     KT  BANGALORE 2016-05-01  \n",
       "925     KT  BANGALORE 2016-06-01  \n",
       "938     KT  BANGALORE 2016-07-01  \n",
       "951     KT  BANGALORE 2016-08-01  \n",
       "964     KT  BANGALORE 2016-09-01  \n",
       "977     KT  BANGALORE 2016-10-01  \n",
       "990     KT  BANGALORE 2016-11-01  \n",
       "1003    KT  BANGALORE 2016-12-01  "
      ]
     },
     "execution_count": 58,
     "metadata": {},
     "output_type": "execute_result"
    }
   ],
   "source": [
    "df2016Bang"
   ]
  },
  {
   "cell_type": "markdown",
   "metadata": {
    "deletable": true,
    "editable": true
   },
   "source": [
    "### Exercise"
   ]
  },
  {
   "cell_type": "markdown",
   "metadata": {
    "deletable": true,
    "editable": true
   },
   "source": [
    "Subset the dataframe for Delhi in 2016."
   ]
  },
  {
   "cell_type": "code",
   "execution_count": null,
   "metadata": {
    "collapsed": true
   },
   "outputs": [],
   "source": []
  },
  {
   "cell_type": "markdown",
   "metadata": {
    "deletable": true,
    "editable": true
   },
   "source": [
    "Find the city with the highest onion quantity sold?"
   ]
  },
  {
   "cell_type": "code",
   "execution_count": null,
   "metadata": {
    "collapsed": false,
    "deletable": true,
    "editable": true
   },
   "outputs": [],
   "source": []
  },
  {
   "cell_type": "code",
   "execution_count": null,
   "metadata": {
    "collapsed": true,
    "deletable": true,
    "editable": true
   },
   "outputs": [],
   "source": []
  },
  {
   "cell_type": "markdown",
   "metadata": {
    "deletable": true,
    "editable": true
   },
   "source": [
    "###  Principle: Split Apply Combine\n",
    "\n",
    "How do we get the sum of quantity for each city.\n",
    "\n",
    "We need to **SPLIT** the data by each city, **APPLY** the sum to the quantity row and then **COMBINE** the data again\n",
    "\n",
    "\n",
    "![](../img/splitapplycombine.png)\n",
    "\n",
    "\n",
    "In pandas, we use the `groupby` function to do this."
   ]
  },
  {
   "cell_type": "code",
   "execution_count": 62,
   "metadata": {
    "collapsed": false,
    "deletable": true,
    "editable": true
   },
   "outputs": [
    {
     "data": {
      "text/plain": [
       "city\n",
       "ABOHAR                2440\n",
       "AGRA               1348878\n",
       "AHMEDABAD          2110393\n",
       "AHMEDNAGAR         1289549\n",
       "AIGINIA MANDIA       53550\n",
       "Name: quantity, dtype: int64"
      ]
     },
     "execution_count": 62,
     "metadata": {},
     "output_type": "execute_result"
    }
   ],
   "source": [
    "df2016.groupby(['city']).quantity.sum().head()"
   ]
  },
  {
   "cell_type": "code",
   "execution_count": 63,
   "metadata": {
    "collapsed": false,
    "deletable": true,
    "editable": true
   },
   "outputs": [],
   "source": [
    "# Group by using city\n",
    "df2016City = df2016.groupby(['city']).sum()"
   ]
  },
  {
   "cell_type": "code",
   "execution_count": 64,
   "metadata": {
    "collapsed": false,
    "deletable": true,
    "editable": true
   },
   "outputs": [
    {
     "data": {
      "text/html": [
       "<div>\n",
       "<table border=\"1\" class=\"dataframe\">\n",
       "  <thead>\n",
       "    <tr style=\"text-align: right;\">\n",
       "      <th></th>\n",
       "      <th>year</th>\n",
       "      <th>quantity</th>\n",
       "      <th>priceMin</th>\n",
       "      <th>priceMax</th>\n",
       "      <th>priceMod</th>\n",
       "    </tr>\n",
       "    <tr>\n",
       "      <th>city</th>\n",
       "      <th></th>\n",
       "      <th></th>\n",
       "      <th></th>\n",
       "      <th></th>\n",
       "      <th></th>\n",
       "    </tr>\n",
       "  </thead>\n",
       "  <tbody>\n",
       "    <tr>\n",
       "      <th>ABOHAR</th>\n",
       "      <td>12096</td>\n",
       "      <td>2440</td>\n",
       "      <td>3986</td>\n",
       "      <td>5679</td>\n",
       "      <td>4799</td>\n",
       "    </tr>\n",
       "    <tr>\n",
       "      <th>AGRA</th>\n",
       "      <td>24192</td>\n",
       "      <td>1348878</td>\n",
       "      <td>10239</td>\n",
       "      <td>13570</td>\n",
       "      <td>12182</td>\n",
       "    </tr>\n",
       "    <tr>\n",
       "      <th>AHMEDABAD</th>\n",
       "      <td>24192</td>\n",
       "      <td>2110393</td>\n",
       "      <td>5483</td>\n",
       "      <td>11405</td>\n",
       "      <td>8812</td>\n",
       "    </tr>\n",
       "    <tr>\n",
       "      <th>AHMEDNAGAR</th>\n",
       "      <td>22176</td>\n",
       "      <td>1289549</td>\n",
       "      <td>1451</td>\n",
       "      <td>13610</td>\n",
       "      <td>9084</td>\n",
       "    </tr>\n",
       "    <tr>\n",
       "      <th>AIGINIA MANDIA</th>\n",
       "      <td>10080</td>\n",
       "      <td>53550</td>\n",
       "      <td>5540</td>\n",
       "      <td>6529</td>\n",
       "      <td>6029</td>\n",
       "    </tr>\n",
       "  </tbody>\n",
       "</table>\n",
       "</div>"
      ],
      "text/plain": [
       "                  year  quantity  priceMin  priceMax  priceMod\n",
       "city                                                          \n",
       "ABOHAR           12096      2440      3986      5679      4799\n",
       "AGRA             24192   1348878     10239     13570     12182\n",
       "AHMEDABAD        24192   2110393      5483     11405      8812\n",
       "AHMEDNAGAR       22176   1289549      1451     13610      9084\n",
       "AIGINIA MANDIA   10080     53550      5540      6529      6029"
      ]
     },
     "execution_count": 64,
     "metadata": {},
     "output_type": "execute_result"
    }
   ],
   "source": [
    "df2016City.head()"
   ]
  },
  {
   "cell_type": "code",
   "execution_count": 65,
   "metadata": {
    "collapsed": false,
    "deletable": true,
    "editable": true
   },
   "outputs": [
    {
     "data": {
      "text/plain": [
       "pandas.core.frame.DataFrame"
      ]
     },
     "execution_count": 65,
     "metadata": {},
     "output_type": "execute_result"
    }
   ],
   "source": [
    "type(df2016City)"
   ]
  },
  {
   "cell_type": "code",
   "execution_count": 66,
   "metadata": {
    "collapsed": false,
    "deletable": true,
    "editable": true
   },
   "outputs": [],
   "source": [
    "# If we only want to apply the sum function on quantity, then we specify the quantity column\n",
    "df2016City = df2016.groupby(['city']).quantity.sum()"
   ]
  },
  {
   "cell_type": "code",
   "execution_count": 67,
   "metadata": {
    "collapsed": false,
    "deletable": true,
    "editable": true
   },
   "outputs": [
    {
     "data": {
      "text/plain": [
       "city\n",
       "ABOHAR                2440\n",
       "AGRA               1348878\n",
       "AHMEDABAD          2110393\n",
       "AHMEDNAGAR         1289549\n",
       "AIGINIA MANDIA       53550\n",
       "Name: quantity, dtype: int64"
      ]
     },
     "execution_count": 67,
     "metadata": {},
     "output_type": "execute_result"
    }
   ],
   "source": [
    "# Let us see this dataframe\n",
    "df2016City.head()"
   ]
  },
  {
   "cell_type": "code",
   "execution_count": 68,
   "metadata": {
    "collapsed": true,
    "deletable": true,
    "editable": true
   },
   "outputs": [],
   "source": [
    "# To create a dataframe again, it is best to specify index as false\n",
    "df2016City = df2016.groupby(['city'], as_index=False).quantity.sum()"
   ]
  },
  {
   "cell_type": "code",
   "execution_count": 69,
   "metadata": {
    "collapsed": false,
    "deletable": true,
    "editable": true
   },
   "outputs": [
    {
     "data": {
      "text/plain": [
       "market              object\n",
       "month               object\n",
       "year                 int64\n",
       "quantity             int64\n",
       "priceMin             int64\n",
       "priceMax             int64\n",
       "priceMod             int64\n",
       "state               object\n",
       "city                object\n",
       "date        datetime64[ns]\n",
       "dtype: object"
      ]
     },
     "execution_count": 69,
     "metadata": {},
     "output_type": "execute_result"
    }
   ],
   "source": [
    "df.dtypes"
   ]
  },
  {
   "cell_type": "code",
   "execution_count": 70,
   "metadata": {
    "collapsed": false,
    "deletable": true,
    "editable": true
   },
   "outputs": [
    {
     "data": {
      "text/html": [
       "<div>\n",
       "<table border=\"1\" class=\"dataframe\">\n",
       "  <thead>\n",
       "    <tr style=\"text-align: right;\">\n",
       "      <th></th>\n",
       "      <th>city</th>\n",
       "      <th>quantity</th>\n",
       "    </tr>\n",
       "  </thead>\n",
       "  <tbody>\n",
       "    <tr>\n",
       "      <th>0</th>\n",
       "      <td>ABOHAR</td>\n",
       "      <td>2440</td>\n",
       "    </tr>\n",
       "    <tr>\n",
       "      <th>1</th>\n",
       "      <td>AGRA</td>\n",
       "      <td>1348878</td>\n",
       "    </tr>\n",
       "    <tr>\n",
       "      <th>2</th>\n",
       "      <td>AHMEDABAD</td>\n",
       "      <td>2110393</td>\n",
       "    </tr>\n",
       "    <tr>\n",
       "      <th>3</th>\n",
       "      <td>AHMEDNAGAR</td>\n",
       "      <td>1289549</td>\n",
       "    </tr>\n",
       "    <tr>\n",
       "      <th>4</th>\n",
       "      <td>AIGINIA MANDIA</td>\n",
       "      <td>53550</td>\n",
       "    </tr>\n",
       "  </tbody>\n",
       "</table>\n",
       "</div>"
      ],
      "text/plain": [
       "              city  quantity\n",
       "0           ABOHAR      2440\n",
       "1             AGRA   1348878\n",
       "2        AHMEDABAD   2110393\n",
       "3       AHMEDNAGAR   1289549\n",
       "4  AIGINIA MANDIA      53550"
      ]
     },
     "execution_count": 70,
     "metadata": {},
     "output_type": "execute_result"
    }
   ],
   "source": [
    "df2016City.head()"
   ]
  },
  {
   "cell_type": "code",
   "execution_count": 71,
   "metadata": {
    "collapsed": false,
    "deletable": true,
    "editable": true
   },
   "outputs": [
    {
     "data": {
      "text/plain": [
       "market              object\n",
       "month               object\n",
       "year                 int64\n",
       "quantity             int64\n",
       "priceMin             int64\n",
       "priceMax             int64\n",
       "priceMod             int64\n",
       "state               object\n",
       "city                object\n",
       "date        datetime64[ns]\n",
       "dtype: object"
      ]
     },
     "execution_count": 71,
     "metadata": {},
     "output_type": "execute_result"
    }
   ],
   "source": [
    "df.dtypes"
   ]
  },
  {
   "cell_type": "markdown",
   "metadata": {
    "deletable": true,
    "editable": true
   },
   "source": [
    "### PRINCIPLE: Sorting"
   ]
  },
  {
   "cell_type": "code",
   "execution_count": 72,
   "metadata": {
    "collapsed": false,
    "deletable": true,
    "editable": true
   },
   "outputs": [
    {
     "data": {
      "text/html": [
       "<div>\n",
       "<table border=\"1\" class=\"dataframe\">\n",
       "  <thead>\n",
       "    <tr style=\"text-align: right;\">\n",
       "      <th></th>\n",
       "      <th>city</th>\n",
       "      <th>quantity</th>\n",
       "    </tr>\n",
       "  </thead>\n",
       "  <tbody>\n",
       "    <tr>\n",
       "      <th>156</th>\n",
       "      <td>SRINIVASPUR</td>\n",
       "      <td>70</td>\n",
       "    </tr>\n",
       "    <tr>\n",
       "      <th>32</th>\n",
       "      <td>CHALA</td>\n",
       "      <td>130</td>\n",
       "    </tr>\n",
       "    <tr>\n",
       "      <th>46</th>\n",
       "      <td>DEWAS</td>\n",
       "      <td>237</td>\n",
       "    </tr>\n",
       "    <tr>\n",
       "      <th>10</th>\n",
       "      <td>ANGUL</td>\n",
       "      <td>490</td>\n",
       "    </tr>\n",
       "    <tr>\n",
       "      <th>119</th>\n",
       "      <td>PALAMANER</td>\n",
       "      <td>500</td>\n",
       "    </tr>\n",
       "  </tbody>\n",
       "</table>\n",
       "</div>"
      ],
      "text/plain": [
       "             city  quantity\n",
       "156  SRINIVASPUR         70\n",
       "32         CHALA        130\n",
       "46          DEWAS       237\n",
       "10          ANGUL       490\n",
       "119    PALAMANER        500"
      ]
     },
     "execution_count": 72,
     "metadata": {},
     "output_type": "execute_result"
    }
   ],
   "source": [
    "# Sort the Dataframe by Quantity to see which one is on top\n",
    "df2016City = df2016City.sort_values(by = \"quantity\")\n",
    "df2016City.head()"
   ]
  },
  {
   "cell_type": "code",
   "execution_count": 73,
   "metadata": {
    "collapsed": false,
    "deletable": true,
    "editable": true
   },
   "outputs": [
    {
     "data": {
      "text/html": [
       "<div>\n",
       "<table border=\"1\" class=\"dataframe\">\n",
       "  <thead>\n",
       "    <tr style=\"text-align: right;\">\n",
       "      <th></th>\n",
       "      <th>city</th>\n",
       "      <th>quantity</th>\n",
       "    </tr>\n",
       "  </thead>\n",
       "  <tbody>\n",
       "    <tr>\n",
       "      <th>15</th>\n",
       "      <td>BANGALORE</td>\n",
       "      <td>9117473</td>\n",
       "    </tr>\n",
       "    <tr>\n",
       "      <th>102</th>\n",
       "      <td>MAHUVA</td>\n",
       "      <td>6144573</td>\n",
       "    </tr>\n",
       "    <tr>\n",
       "      <th>126</th>\n",
       "      <td>PIMPALGAON</td>\n",
       "      <td>3836046</td>\n",
       "    </tr>\n",
       "    <tr>\n",
       "      <th>154</th>\n",
       "      <td>SOLAPUR</td>\n",
       "      <td>3767140</td>\n",
       "    </tr>\n",
       "    <tr>\n",
       "      <th>129</th>\n",
       "      <td>PUNE</td>\n",
       "      <td>3493535</td>\n",
       "    </tr>\n",
       "  </tbody>\n",
       "</table>\n",
       "</div>"
      ],
      "text/plain": [
       "           city  quantity\n",
       "15    BANGALORE   9117473\n",
       "102      MAHUVA   6144573\n",
       "126  PIMPALGAON   3836046\n",
       "154     SOLAPUR   3767140\n",
       "129        PUNE   3493535"
      ]
     },
     "execution_count": 73,
     "metadata": {},
     "output_type": "execute_result"
    }
   ],
   "source": [
    "df2016City = df2016City.sort_values(by = \"quantity\", ascending = False)\n",
    "df2016City.head()"
   ]
  },
  {
   "cell_type": "markdown",
   "metadata": {
    "deletable": true,
    "editable": true
   },
   "source": [
    "### Exercise"
   ]
  },
  {
   "cell_type": "markdown",
   "metadata": {
    "deletable": true,
    "editable": true
   },
   "source": [
    "Find the top 10 city with highest average monthly sales in the last 5 years (from 2012 to 2016)?"
   ]
  },
  {
   "cell_type": "code",
   "execution_count": 78,
   "metadata": {
    "collapsed": false,
    "deletable": true,
    "editable": true
   },
   "outputs": [
    {
     "data": {
      "text/plain": [
       "city\n",
       "BANGALORE     669581.583333\n",
       "MAHUVA        371856.694915\n",
       "SOLAPUR       332377.816667\n",
       "PUNE          296490.150000\n",
       "DELHI         285956.700000\n",
       "LASALGAON     280032.716667\n",
       "PIMPALGAON    259157.966667\n",
       "MUMBAI        224131.833333\n",
       "BHAVNAGAR     190190.731707\n",
       "NEWASA        188024.115385\n",
       "Name: quantity, dtype: float64"
      ]
     },
     "execution_count": 78,
     "metadata": {},
     "output_type": "execute_result"
    }
   ],
   "source": [
    "df2016Till2012 = df[(df.year > 2011) & (df.year < 2017)]\n",
    "df2016Till2012.groupby(['city']).quantity.mean().sort_values(ascending=False).head(10)"
   ]
  },
  {
   "cell_type": "code",
   "execution_count": 79,
   "metadata": {
    "collapsed": false,
    "deletable": true,
    "editable": true
   },
   "outputs": [
    {
     "data": {
      "text/html": [
       "<div>\n",
       "<table border=\"1\" class=\"dataframe\">\n",
       "  <thead>\n",
       "    <tr style=\"text-align: right;\">\n",
       "      <th></th>\n",
       "      <th>market</th>\n",
       "      <th>month</th>\n",
       "      <th>year</th>\n",
       "      <th>quantity</th>\n",
       "      <th>priceMin</th>\n",
       "      <th>priceMax</th>\n",
       "      <th>priceMod</th>\n",
       "      <th>state</th>\n",
       "      <th>city</th>\n",
       "      <th>date</th>\n",
       "      <th>value</th>\n",
       "    </tr>\n",
       "  </thead>\n",
       "  <tbody>\n",
       "    <tr>\n",
       "      <th>0</th>\n",
       "      <td>ABOHAR(PB)</td>\n",
       "      <td>January</td>\n",
       "      <td>2005</td>\n",
       "      <td>2350</td>\n",
       "      <td>404</td>\n",
       "      <td>493</td>\n",
       "      <td>446</td>\n",
       "      <td>PB</td>\n",
       "      <td>ABOHAR</td>\n",
       "      <td>2005-01-01</td>\n",
       "      <td>1048100</td>\n",
       "    </tr>\n",
       "    <tr>\n",
       "      <th>1</th>\n",
       "      <td>ABOHAR(PB)</td>\n",
       "      <td>January</td>\n",
       "      <td>2006</td>\n",
       "      <td>900</td>\n",
       "      <td>487</td>\n",
       "      <td>638</td>\n",
       "      <td>563</td>\n",
       "      <td>PB</td>\n",
       "      <td>ABOHAR</td>\n",
       "      <td>2006-01-01</td>\n",
       "      <td>506700</td>\n",
       "    </tr>\n",
       "    <tr>\n",
       "      <th>2</th>\n",
       "      <td>ABOHAR(PB)</td>\n",
       "      <td>January</td>\n",
       "      <td>2010</td>\n",
       "      <td>790</td>\n",
       "      <td>1283</td>\n",
       "      <td>1592</td>\n",
       "      <td>1460</td>\n",
       "      <td>PB</td>\n",
       "      <td>ABOHAR</td>\n",
       "      <td>2010-01-01</td>\n",
       "      <td>1153400</td>\n",
       "    </tr>\n",
       "    <tr>\n",
       "      <th>3</th>\n",
       "      <td>ABOHAR(PB)</td>\n",
       "      <td>January</td>\n",
       "      <td>2011</td>\n",
       "      <td>245</td>\n",
       "      <td>3067</td>\n",
       "      <td>3750</td>\n",
       "      <td>3433</td>\n",
       "      <td>PB</td>\n",
       "      <td>ABOHAR</td>\n",
       "      <td>2011-01-01</td>\n",
       "      <td>841085</td>\n",
       "    </tr>\n",
       "    <tr>\n",
       "      <th>4</th>\n",
       "      <td>ABOHAR(PB)</td>\n",
       "      <td>January</td>\n",
       "      <td>2012</td>\n",
       "      <td>1035</td>\n",
       "      <td>523</td>\n",
       "      <td>686</td>\n",
       "      <td>605</td>\n",
       "      <td>PB</td>\n",
       "      <td>ABOHAR</td>\n",
       "      <td>2012-01-01</td>\n",
       "      <td>626175</td>\n",
       "    </tr>\n",
       "  </tbody>\n",
       "</table>\n",
       "</div>"
      ],
      "text/plain": [
       "       market    month  year  quantity  priceMin  priceMax  priceMod state  \\\n",
       "0  ABOHAR(PB)  January  2005      2350       404       493       446    PB   \n",
       "1  ABOHAR(PB)  January  2006       900       487       638       563    PB   \n",
       "2  ABOHAR(PB)  January  2010       790      1283      1592      1460    PB   \n",
       "3  ABOHAR(PB)  January  2011       245      3067      3750      3433    PB   \n",
       "4  ABOHAR(PB)  January  2012      1035       523       686       605    PB   \n",
       "\n",
       "     city       date    value  \n",
       "0  ABOHAR 2005-01-01  1048100  \n",
       "1  ABOHAR 2006-01-01   506700  \n",
       "2  ABOHAR 2010-01-01  1153400  \n",
       "3  ABOHAR 2011-01-01   841085  \n",
       "4  ABOHAR 2012-01-01   626175  "
      ]
     },
     "execution_count": 79,
     "metadata": {},
     "output_type": "execute_result"
    }
   ],
   "source": [
    "df['value']=df.quantity * df.priceMod\n",
    "df.head()"
   ]
  },
  {
   "cell_type": "code",
   "execution_count": null,
   "metadata": {
    "collapsed": false,
    "deletable": true,
    "editable": true
   },
   "outputs": [],
   "source": []
  },
  {
   "cell_type": "code",
   "execution_count": null,
   "metadata": {
    "collapsed": true,
    "deletable": true,
    "editable": true
   },
   "outputs": [],
   "source": []
  },
  {
   "cell_type": "code",
   "execution_count": null,
   "metadata": {
    "collapsed": true,
    "deletable": true,
    "editable": true
   },
   "outputs": [],
   "source": []
  },
  {
   "cell_type": "code",
   "execution_count": null,
   "metadata": {
    "collapsed": false,
    "deletable": true,
    "editable": true
   },
   "outputs": [],
   "source": []
  }
 ],
 "metadata": {
  "anaconda-cloud": {},
  "kernelspec": {
   "display_name": "Python 3",
   "language": "python",
   "name": "python3"
  },
  "language_info": {
   "codemirror_mode": {
    "name": "ipython",
    "version": 3
   },
   "file_extension": ".py",
   "mimetype": "text/x-python",
   "name": "python",
   "nbconvert_exporter": "python",
   "pygments_lexer": "ipython3",
   "version": "3.6.0"
  }
 },
 "nbformat": 4,
 "nbformat_minor": 0
}
